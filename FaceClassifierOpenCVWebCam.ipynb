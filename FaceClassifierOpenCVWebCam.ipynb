{
 "cells": [
  {
   "cell_type": "markdown",
   "metadata": {},
   "source": [
    "# OpenCV Web Cam View"
   ]
  },
  {
   "cell_type": "code",
   "execution_count": null,
   "metadata": {},
   "outputs": [],
   "source": [
    "!pip install opencv-contrib-python\n",
    "!pip install numpy\n",
    "!pip install matplotlib"
   ]
  },
  {
   "cell_type": "code",
   "execution_count": 1,
   "metadata": {},
   "outputs": [],
   "source": [
    "import cv2"
   ]
  },
  {
   "cell_type": "markdown",
   "metadata": {},
   "source": [
    "Simple function to log a line of text."
   ]
  },
  {
   "cell_type": "code",
   "execution_count": 2,
   "metadata": {},
   "outputs": [],
   "source": [
    "from datetime import datetime\n",
    "logFilePath = 'log.txt'\n",
    "def logLine(text):\n",
    "    with open(logFilePath, 'a') as logFile:\n",
    "        print('[%s]: %s' % (str(datetime.now()), str(text)), file = logFile)"
   ]
  },
  {
   "cell_type": "markdown",
   "metadata": {},
   "source": [
    "Initialise web cam 0"
   ]
  },
  {
   "cell_type": "code",
   "execution_count": 3,
   "metadata": {},
   "outputs": [],
   "source": [
    "cap = cv2.VideoCapture(0)"
   ]
  },
  {
   "cell_type": "markdown",
   "metadata": {},
   "source": [
    "Cascade Classifier"
   ]
  },
  {
   "cell_type": "code",
   "execution_count": 4,
   "metadata": {},
   "outputs": [],
   "source": [
    "faceCascade = cv2.CascadeClassifier('cascades/data/haarcascade_frontalface_alt2.xml')"
   ]
  },
  {
   "cell_type": "markdown",
   "metadata": {},
   "source": [
    "Detect faces."
   ]
  },
  {
   "cell_type": "code",
   "execution_count": 5,
   "metadata": {},
   "outputs": [],
   "source": [
    "rectColor = (0, 0, 255) # remember BGR, not RGB (0-255, regular)\n",
    "rectStroke = 2"
   ]
  },
  {
   "cell_type": "markdown",
   "metadata": {},
   "source": [
    "Opens OpenCV window with frames updated from the web camera.\n",
    "\n",
    "Convert the frames into grayscale color space and use harcasscade classifier to detect faces.\n",
    "\n",
    "The faces are saved to 'facepics' folder and red coloured rectangle is drawn across the faces."
   ]
  },
  {
   "cell_type": "code",
   "execution_count": 6,
   "metadata": {},
   "outputs": [],
   "source": [
    "count = 0\n",
    "try:\n",
    "    while(True):\n",
    "        ret, frame = cap.read()\n",
    "        gray = cv2.cvtColor(frame, cv2.COLOR_BGR2GRAY)\n",
    "\n",
    "        faces = faceCascade.detectMultiScale(gray, scaleFactor = 1.5, minNeighbors = 5)\n",
    "        \n",
    "        faceSavePath = './facepics/face{}.png'\n",
    "        for (x, y, w, h) in faces:\n",
    "            logText = str('x:%d y:%d w:%d h:%d' % (x, y, w, h))\n",
    "            logLine(logText)\n",
    "            \n",
    "            regionOfInterestGray = gray[y: y+h, x: x+w]\n",
    "            regionOfInterest = frame[y: y+h, x: x+w]\n",
    "\n",
    "            cv2.imwrite(faceSavePath.format(count), regionOfInterest)\n",
    "            count = count + 1\n",
    "            \n",
    "            # draw rectangle\n",
    "            cv2.rectangle(frame, (x, y), (x + w, y + h), rectColor, rectStroke)\n",
    "            \n",
    "        cv2.imshow('my camera', frame)\n",
    "\n",
    "\n",
    "        if cv2.waitKey(20) & 0xFF == ord('q'):\n",
    "            break\n",
    "except KeyboardInterrupt:\n",
    "    pass\n",
    "finally:\n",
    "    cap.release()\n",
    "    cv2.destroyAllWindows()"
   ]
  },
  {
   "cell_type": "markdown",
   "metadata": {},
   "source": [
    "Using 'q' button to exit the view and destroy window objects."
   ]
  }
 ],
 "metadata": {
  "kernelspec": {
   "display_name": "Python 3",
   "language": "python",
   "name": "python3"
  },
  "language_info": {
   "codemirror_mode": {
    "name": "ipython",
    "version": 3
   },
   "file_extension": ".py",
   "mimetype": "text/x-python",
   "name": "python",
   "nbconvert_exporter": "python",
   "pygments_lexer": "ipython3",
   "version": "3.6.7"
  }
 },
 "nbformat": 4,
 "nbformat_minor": 2
}
