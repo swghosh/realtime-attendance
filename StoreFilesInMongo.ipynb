{
 "cells": [
  {
   "cell_type": "markdown",
   "metadata": {},
   "source": [
    "# Storing Files in MongoDB\n",
    "- Read images from file system and store it in mongoDB.\n",
    "- Read documents from mongoDB and write it to file system as images."
   ]
  },
  {
   "cell_type": "code",
   "execution_count": 1,
   "metadata": {
    "scrolled": true
   },
   "outputs": [],
   "source": [
    "from pymongo import MongoClient"
   ]
  },
  {
   "cell_type": "code",
   "execution_count": 2,
   "metadata": {
    "scrolled": true
   },
   "outputs": [],
   "source": [
    "client = MongoClient('mongodb://127.0.0.1/realtimeattendance')"
   ]
  },
  {
   "cell_type": "code",
   "execution_count": 3,
   "metadata": {
    "scrolled": true
   },
   "outputs": [],
   "source": [
    "dbName = 'realtimeattendance'"
   ]
  },
  {
   "cell_type": "code",
   "execution_count": 4,
   "metadata": {
    "scrolled": true
   },
   "outputs": [],
   "source": [
    "db = client[dbName]"
   ]
  },
  {
   "cell_type": "code",
   "execution_count": 5,
   "metadata": {
    "scrolled": true
   },
   "outputs": [],
   "source": [
    "collectionNames = [\n",
    "    'trainedFaces',\n",
    "    'recognisedFaces',\n",
    "    'students',\n",
    "    'attendance'\n",
    "]\n",
    "for name in collectionNames:\n",
    "    db.create_collection(name)"
   ]
  },
  {
   "cell_type": "code",
   "execution_count": 6,
   "metadata": {
    "scrolled": true
   },
   "outputs": [
    {
     "name": "stdout",
     "output_type": "stream",
     "text": [
      "/Users/swg/Desktop/RealtimeAttendanceProject\r\n"
     ]
    }
   ],
   "source": [
    "!pwd"
   ]
  },
  {
   "cell_type": "code",
   "execution_count": 7,
   "metadata": {},
   "outputs": [
    {
     "name": "stdout",
     "output_type": "stream",
     "text": [
      "['face199.png', 'face166.png', 'face172.png', 'face39.png', 'face210.png', 'face204.png', 'face238.png', 'face239.png', 'face205.png', 'face211.png', 'face38.png', 'face173.png', 'face167.png', 'face198.png', 'face171.png', 'face165.png', 'face159.png', 'face207.png', 'face213.png', 'face212.png', 'face206.png', 'face158.png', 'face164.png', 'face170.png', 'face148.png', 'face174.png', 'face160.png', 'face17.png', 'face202.png', 'face216.png', 'face217.png', 'face203.png', 'face16.png', 'face161.png', 'face175.png', 'face149.png', 'face188.png', 'face163.png', 'face177.png', 'face28.png', 'face229.png', 'face215.png', 'face201.png', 'face200.png', 'face214.png', 'face228.png', 'face29.png', 'face176.png', 'face162.png', 'face189.png', 'face105.png', 'face111.png', 'face139.png', 'face99.png', 'face66.png', 'face72.png', 'face73.png', 'face67.png', 'face98.png', 'face138.png', 'face110.png', 'face104.png', 'face112.png', 'face106.png', 'face71.png', 'face65.png', 'face59.png', 'face264.png', 'face258.png', 'face259.png', 'face58.png', 'face64.png', 'face70.png', 'face107.png', 'face113.png', 'face117.png', 'face103.png', 'face48.png', 'face74.png', 'face60.png', 'face249.png', 'face261.png', 'face260.png', 'face248.png', 'face61.png', 'face75.png', 'face49.png', 'face102.png', 'face116.png', 'face128.png', 'face100.png', 'face114.png', 'face88.png', 'face63.png', 'face77.png', 'face262.png', 'face263.png', 'face76.png', 'face62.png', 'face89.png', 'face115.png', 'face101.png', 'face129.png', 'face124.png', 'face130.png', 'face118.png', 'face84.png', 'face90.png', 'face47.png', 'face53.png', 'face252.png', 'face246.png', 'face247.png', 'face253.png', 'face52.png', 'face46.png', 'face91.png', 'face85.png', 'face119.png', 'face131.png', 'face125.png', 'face133.png', 'face127.png', 'face93.png', 'face87.png', 'face50.png', 'face44.png', 'face78.png', 'face245.png', 'face251.png', 'face250.png', 'face244.png', 'face79.png', 'face45.png', 'face51.png', 'face86.png', 'face92.png', 'face126.png', 'face132.png', 'face136.png', 'face122.png', 'face96.png', 'face82.png', 'face69.png', 'face55.png', 'face41.png', 'face240.png', 'face254.png', 'face255.png', 'face241.png', 'face40.png', 'face54.png', 'face68.png', 'face83.png', 'face97.png', 'face123.png', 'face137.png', 'face109.png', 'face121.png', 'face135.png', 'face81.png', 'face95.png', 'face42.png', 'face56.png', 'face257.png', 'face243.png', 'face242.png', 'face256.png', 'face57.png', 'face43.png', 'face94.png', 'face80.png', 'face134.png', 'face120.png', 'face108.png', 'face184.png', 'face190.png', 'face147.png', 'face153.png', 'face24.png', 'face30.png', 'face18.png', 'face231.png', 'face225.png', 'face219.png', 'face218.png', 'face224.png', 'face230.png', 'face19.png', 'face31.png', 'face25.png', 'face152.png', 'face146.png', 'face191.png', 'face185.png', 'face193.png', 'face187.png', 'face150.png', 'face144.png', 'face178.png', 'face33.png', 'face27.png', 'face226.png', 'face232.png', 'face233.png', 'face227.png', 'face26.png', 'face32.png', 'face179.png', 'face145.png', 'face151.png', 'face186.png', 'face192.png', 'face196.png', 'face182.png', 'face169.png', 'face155.png', 'face141.png', 'face36.png', 'face22.png', 'face223.png', 'face237.png', 'face236.png', 'face222.png', 'face23.png', 'face37.png', 'face140.png', 'face154.png', 'face168.png', 'face183.png', 'face197.png', 'face181.png', 'face195.png', 'face142.png', 'face156.png', 'face21.png', 'face35.png', 'face208.png', 'face234.png', 'face220.png', 'face221.png', 'face235.png', 'face209.png', 'face34.png', 'face20.png', 'face157.png', 'face143.png', 'face194.png', 'face180.png']\n"
     ]
    }
   ],
   "source": [
    "folderPath = './facepics'\n",
    "import os\n",
    "print(os.listdir(folderPath))"
   ]
  },
  {
   "cell_type": "code",
   "execution_count": 9,
   "metadata": {},
   "outputs": [],
   "source": [
    "for imageName in os.listdir(folderPath):\n",
    "    imagePath = folderPath + '/' + imageName\n",
    "    with open(imagePath, 'rb') as image:\n",
    "        imageData = image.read()\n",
    "    document = {\n",
    "        'name': imageName,\n",
    "        'data': imageData\n",
    "    }\n",
    "    db.trainedFaces.insert_one(document)"
   ]
  },
  {
   "cell_type": "code",
   "execution_count": 10,
   "metadata": {},
   "outputs": [],
   "source": [
    "outFolderPath = './facepics2'\n",
    "os.mkdir(outFolderPath)"
   ]
  },
  {
   "cell_type": "code",
   "execution_count": 11,
   "metadata": {},
   "outputs": [],
   "source": [
    "for document in db.trainedFaces.find({}):\n",
    "    imagePath = outFolderPath + '/' + document['name']\n",
    "    with open(imagePath, 'wb') as image:\n",
    "        image.write(document['data'])"
   ]
  }
 ],
 "metadata": {
  "kernelspec": {
   "display_name": "Python 3",
   "language": "python",
   "name": "python3"
  },
  "language_info": {
   "codemirror_mode": {
    "name": "ipython",
    "version": 3
   },
   "file_extension": ".py",
   "mimetype": "text/x-python",
   "name": "python",
   "nbconvert_exporter": "python",
   "pygments_lexer": "ipython3",
   "version": "3.6.5"
  }
 },
 "nbformat": 4,
 "nbformat_minor": 2
}
